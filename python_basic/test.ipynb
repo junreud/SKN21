{
 "cells": [
  {
   "cell_type": "markdown",
   "id": "a13b76f0",
   "metadata": {},
   "source": [
    "# 안녕하세요."
   ]
  },
  {
   "cell_type": "code",
   "execution_count": null,
   "id": "6c46516e",
   "metadata": {},
   "outputs": [
    {
     "data": {
      "text/plain": [
       "2"
      ]
     },
     "execution_count": 12,
     "metadata": {},
     "output_type": "execute_result"
    }
   ],
   "source": [
    "# 실행: control + enter , shift + enter\n",
    "# cell 생성: a (위) b (아래)\n",
    "# cell 삭제: dd\n",
    "# cell 실행 후 아래에 cell 추가: alt + enter\n",
    "# cell 실행 후 다음 cell로 이동: shift + enter\n",
    "# cell 실행 후 이전 cell로 이동: ctrl + enter\n",
    "# cell 복사: ctrl + c\n",
    "# cell 붙여넣기: ctrl + v\n",
    "\n",
    "1+1\n",
    "\n"
   ]
  }
 ],
 "metadata": {
  "kernelspec": {
   "display_name": "skn-21",
   "language": "python",
   "name": "python3"
  },
  "language_info": {
   "codemirror_mode": {
    "name": "ipython",
    "version": 3
   },
   "file_extension": ".py",
   "mimetype": "text/x-python",
   "name": "python",
   "nbconvert_exporter": "python",
   "pygments_lexer": "ipython3",
   "version": "3.13.7"
  }
 },
 "nbformat": 4,
 "nbformat_minor": 5
}
