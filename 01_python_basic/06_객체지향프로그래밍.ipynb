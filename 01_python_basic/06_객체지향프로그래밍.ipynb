{
 "cells": [
  {
   "cell_type": "markdown",
   "metadata": {
    "slideshow": {
     "slide_type": "slide"
    }
   },
   "source": [
    "# 객체지향 프로그래밍 (Object Oriented Programming)\n",
    "\n",
    "- 객체 지향 프로그래밍(Object-Oriented Programming, OOP)은 현실 세계의 개체(Object)를 소프트웨어의 객체로 모델링하여, 데이터(속성)와 그 데이터를 처리하는 동작(메서드)을 하나의 단위로 묶어 프로그램을 구성하는 프로그래밍 패러다임이다.\n",
    "- 전체 프로그램을 구성하는 객체들을 식별하고, 각 객체가 가지는 데이터(속성)과 이를 처리하는 함수(메서드)를 하나의 독립된 단위로 정의한 뒤, 이 단위들을 서로 분리된 모듈로 설계하고 개발한다.\n",
    "- 일반적으로 객체 지향 언어에서는 먼저 객체를 어떻게 구성할지 클래스를 정의하고, 그 클래스로부터 객체(Instance)를 생성하여 사용한다."
   ]
  },
  {
   "cell_type": "markdown",
   "metadata": {},
   "source": [
    "## Class(클래스) 정의\n",
    "\n",
    "-   객체지향 언어에서 데이터인 **객체(instance)** 를 어떻게 구성할지 정의한 설계도/템플릿을 **클래스** 라고 한다.\n",
    "-   Class에는 다음 두가지를 정의한다.\n",
    "    1. **Property/Attribute**\n",
    "        - 객체의 속성, 상태 값을 저장할 변수\n",
    "        - 보통 class로 정의하는 data는 여러개의 값들로 구성된다. 이 값들을 저장하는 변수를 property/attribute 라고 한다.\n",
    "            - **고객**: 고객ID, 패스워드, 이름, email, 주소, 전화번호, point ...\n",
    "            - **제품**: 제품번호, 이름, 제조사, 가격, 재고량\n",
    "        - Instance 변수라고 한다.\n",
    "        - 개별 객체는 각각의 instance변수를 가진다.\n",
    "    2. **Method**\n",
    "        - 객체의 state 값을 처리하는 함수.\n",
    "        - instance method 라고 한다.\n",
    "        - 개별 객체(instance)들은 동일한 instance 메소드를 이용해 자신의 instance 변수의 값들을 처리한다.\n",
    "-   객체지향 프로그래밍이란 Data와 Data를 처리하는 함수를 분리하지 않고 하나로 묶어 모듈로 개발하는 방식이다. 그래서 어떤 값들과 어떤 함수를 묶을 것인지를 class로 정의한다. 그리고 그 class로 부터 **객체(instance)** 를 생성(instantiate)해서 사용한다.\n",
    "-   **class는 Data type이고 instance는 value 이다.**\n",
    "    > 파이썬에서는 class에 정의된 instance변수와 method를 합쳐 **Attribute** 라고 표현한다.\n",
    "\n",
    "### class 정의\n",
    "\n",
    "```python\n",
    "class 클래스이름:  #선언부\n",
    "    #클래스 구현\n",
    "    #메소드들을 정의\n",
    "```\n",
    "\n",
    "-   **클래스 이름의 관례**\n",
    "    -   **파스칼 표기법** 사용-각 단어의 첫글자는 대문자 나머진 소문자로 정의한다.\n",
    "    -   ex) Person, Student, HighSchoolStudent\n"
   ]
  },
  {
   "cell_type": "markdown",
   "metadata": {
    "slideshow": {
     "slide_type": "fragment"
    }
   },
   "source": [
    "## Instance(객체)\n",
    "\n",
    "-   class로 부터 생성된 값(value)로 클래스에서 정의한 attribute를 behavior를 이용해 처리한다.\n",
    "\n",
    "### 클래스로부터 객체(Instance) 생성\n",
    "\n",
    "```python\n",
    "변수 = 클래스이름()\n",
    "```\n"
   ]
  },
  {
   "cell_type": "code",
   "execution_count": 2,
   "metadata": {},
   "outputs": [
    {
     "name": "stdout",
     "output_type": "stream",
     "text": [
      "person1의 타입: <class '__main__.Person'>\n",
      "person2의 타입: <class '__main__.Person'>\n",
      "my_car의 타입: <class '__main__.Car'>\n",
      "person1과 person2는 같은 객체인가? False\n",
      "person1과 person2는 같은 타입인가? True\n"
     ]
    }
   ],
   "source": [
    "# 클래스 정의 예시\n",
    "class Person:\n",
    "    pass  # 아직 구현하지 않은 빈 클래스\n",
    "\n",
    "class Car:\n",
    "    pass\n",
    "\n",
    "# 객체(인스턴스) 생성\n",
    "person1 = Person()\n",
    "person2 = Person()\n",
    "my_car = Car()\n",
    "\n",
    "print(f\"person1의 타입: {type(person1)}\")\n",
    "print(f\"person2의 타입: {type(person2)}\")\n",
    "print(f\"my_car의 타입: {type(my_car)}\")\n",
    "\n",
    "# 각각 다른 객체인지 확인\n",
    "print(f\"person1과 person2는 같은 객체인가? {person1 is person2}\")\n",
    "print(f\"person1과 person2는 같은 타입인가? {type(person1) == type(person2)}\")"
   ]
  },
  {
   "cell_type": "code",
   "execution_count": 3,
   "metadata": {
    "slideshow": {
     "slide_type": "fragment"
    }
   },
   "outputs": [
    {
     "name": "stdout",
     "output_type": "stream",
     "text": [
      "person1의 정보: 이름=김철수, 나이=25, 직업=개발자\n",
      "person2의 정보: 이름=이영희, 나이=30\n",
      "에러 발생: 'Person' object has no attribute 'job'\n",
      "person1의 모든 속성: {'name': '김철수', 'age': 25, 'job': '개발자'}\n",
      "person2의 모든 속성: {'name': '이영희', 'age': 30}\n"
     ]
    }
   ],
   "source": [
    "person1 = Person()\n",
    "person2 = Person()\n",
    "\n",
    "# 객체에 속성 추가하기 (권장하지 않는 방법)\n",
    "person1.name = \"김철수\"\n",
    "person1.age = 25\n",
    "person1.job = \"개발자\"\n",
    "\n",
    "person2.name = \"이영희\"\n",
    "person2.age = 30\n",
    "\n",
    "print(f\"person1의 정보: 이름={person1.name}, 나이={person1.age}, 직업={person1.job}\")\n",
    "print(f\"person2의 정보: 이름={person2.name}, 나이={person2.age}\")\n",
    "\n",
    "# person2에는 job 속성이 없어서 에러 발생\n",
    "try:\n",
    "    print(f\"person2의 직업: {person2.job}\")\n",
    "except AttributeError as e:\n",
    "    print(f\"에러 발생: {e}\")\n",
    "\n",
    "# 객체의 모든 속성 확인\n",
    "print(f\"person1의 모든 속성: {person1.__dict__}\")\n",
    "print(f\"person2의 모든 속성: {person2.__dict__}\")"
   ]
  },
  {
   "cell_type": "code",
   "execution_count": 5,
   "metadata": {},
   "outputs": [],
   "source": [
    "class Person3:\n",
    "\n",
    "    def __init__(self, name, age, address=None):\n",
    "        self.name = name\n",
    "        self.age = age\n",
    "        self.address = address\n",
    "\n",
    "    def get_info(self):\n",
    "        \"\"\"\n",
    "        Person 객체의 정보를 문자열로 반환\n",
    "        \"\"\"\n",
    "        \n",
    "        return f\"이름: {self.name}, 나이: {self.age}, 주소: {self.address}, 직업: {self.job if self.job else '없음'}\""
   ]
  },
  {
   "cell_type": "code",
   "execution_count": 6,
   "metadata": {},
   "outputs": [
    {
     "name": "stdout",
     "output_type": "stream",
     "text": [
      "이름: 김철수, 나이: 25, 주소: 서울, 직업: 없음\n",
      "에러: Person3.get_info() missing 1 required positional argument: 'self'\n"
     ]
    }
   ],
   "source": [
    "# 1. 인스턴스 메소드 - 반드시 객체 생성 필요\n",
    "class Person3:\n",
    "    def __init__(self, name, age, address=None):\n",
    "        self.name = name\n",
    "        self.age = age\n",
    "        self.address = address\n",
    "        self.job = None\n",
    "\n",
    "    def get_info(self):\n",
    "        return f\"이름: {self.name}, 나이: {self.age}, 주소: {self.address}, 직업: {self.job if self.job else '없음'}\"\n",
    "\n",
    "# 객체 생성 후 메소드 사용\n",
    "person = Person3(\"김철수\", 25, \"서울\")\n",
    "print(person.get_info())  # 이렇게 객체를 통해 호출해야 함\n",
    "\n",
    "# 직접 클래스로 호출하면 에러!\n",
    "try:\n",
    "    Person3.get_info()  # 에러 발생!\n",
    "except TypeError as e:\n",
    "    print(f\"에러: {e}\")"
   ]
  },
  {
   "cell_type": "code",
   "execution_count": 7,
   "metadata": {},
   "outputs": [
    {
     "name": "stdout",
     "output_type": "stream",
     "text": [
      "계산 결과1: 30\n",
      "계산 결과2: 20\n",
      "계산기가 2번 사용되었습니다\n"
     ]
    }
   ],
   "source": [
    "# 2. 클래스 메소드 - 객체 생성 없이 사용 가능\n",
    "class Calculator:\n",
    "    count = 0  # 클래스 변수\n",
    "    \n",
    "    @classmethod\n",
    "    def add(cls, a, b):\n",
    "        cls.count += 1\n",
    "        return a + b\n",
    "    \n",
    "    @classmethod\n",
    "    def get_usage_count(cls):\n",
    "        return f\"계산기가 {cls.count}번 사용되었습니다\"\n",
    "\n",
    "# 객체 생성 없이 바로 사용!\n",
    "result1 = Calculator.add(10, 20)\n",
    "result2 = Calculator.add(5, 15)\n",
    "print(f\"계산 결과1: {result1}\")\n",
    "print(f\"계산 결과2: {result2}\")\n",
    "print(Calculator.get_usage_count())"
   ]
  },
  {
   "cell_type": "code",
   "execution_count": 8,
   "metadata": {},
   "outputs": [
    {
     "name": "stdout",
     "output_type": "stream",
     "text": [
      "반지름 5인 원의 넓이: 78.53975\n",
      "10은 짝수인가? True\n",
      "15, 25, 20 중 최댓값: 25\n"
     ]
    }
   ],
   "source": [
    "# 3. 정적 메소드 - 객체 생성 없이 사용 가능\n",
    "class MathUtils:\n",
    "    @staticmethod\n",
    "    def circle_area(radius):\n",
    "        return 3.14159 * radius * radius\n",
    "    \n",
    "    @staticmethod\n",
    "    def is_even(number):\n",
    "        return number % 2 == 0\n",
    "    \n",
    "    @staticmethod\n",
    "    def max_of_three(a, b, c):\n",
    "        return max(a, b, c)\n",
    "\n",
    "# 객체 생성 없이 바로 사용!\n",
    "area = MathUtils.circle_area(5)\n",
    "is_even_result = MathUtils.is_even(10)\n",
    "max_result = MathUtils.max_of_three(15, 25, 20)\n",
    "\n",
    "print(f\"반지름 5인 원의 넓이: {area}\")\n",
    "print(f\"10은 짝수인가? {is_even_result}\")\n",
    "print(f\"15, 25, 20 중 최댓값: {max_result}\")"
   ]
  },
  {
   "cell_type": "code",
   "execution_count": 9,
   "metadata": {},
   "outputs": [
    {
     "name": "stdout",
     "output_type": "stream",
     "text": [
      "=== 클래스 메소드 사용 방법 정리 ===\n",
      "1. 인스턴스 메소드 (self를 첫 매개변수로 받음)\n",
      "   → 반드시 객체 생성 후 사용: 객체.메소드()\n",
      "\n",
      "2. 클래스 메소드 (@classmethod, cls를 첫 매개변수로 받음)\n",
      "   → 객체 생성 없이 사용 가능: 클래스이름.메소드()\n",
      "   → 클래스 변수 접근/수정 가능\n",
      "\n",
      "3. 정적 메소드 (@staticmethod, self나 cls 매개변수 없음)\n",
      "   → 객체 생성 없이 사용 가능: 클래스이름.메소드()\n",
      "   → 클래스/인스턴스와 독립적인 유틸리티 함수\n"
     ]
    }
   ],
   "source": [
    "# 정리: 메소드 사용 방법\n",
    "print(\"=== 클래스 메소드 사용 방법 정리 ===\")\n",
    "print(\"1. 인스턴스 메소드 (self를 첫 매개변수로 받음)\")\n",
    "print(\"   → 반드시 객체 생성 후 사용: 객체.메소드()\")\n",
    "print()\n",
    "print(\"2. 클래스 메소드 (@classmethod, cls를 첫 매개변수로 받음)\")\n",
    "print(\"   → 객체 생성 없이 사용 가능: 클래스이름.메소드()\")\n",
    "print(\"   → 클래스 변수 접근/수정 가능\")\n",
    "print()\n",
    "print(\"3. 정적 메소드 (@staticmethod, self나 cls 매개변수 없음)\")\n",
    "print(\"   → 객체 생성 없이 사용 가능: 클래스이름.메소드()\")\n",
    "print(\"   → 클래스/인스턴스와 독립적인 유틸리티 함수\")"
   ]
  },
  {
   "cell_type": "markdown",
   "metadata": {},
   "source": [
    "## self의 역할 - 쉽게 이해하기\n",
    "\n",
    "`self`는 **\"나 자신\"**을 가리키는 특별한 변수입니다.\n",
    "\n",
    "### 왜 self가 필요할까요?\n",
    "\n",
    "같은 클래스로 여러 객체를 만들면, 메소드는 **\"누구의 데이터를 사용할지\"** 알아야 합니다."
   ]
  },
  {
   "cell_type": "code",
   "execution_count": null,
   "metadata": {},
   "outputs": [
    {
     "name": "stdout",
     "output_type": "stream",
     "text": [
      "=== self의 역할 ===\n",
      "안녕하세요, 저는 김철수이고 25살입니다.\n",
      "안녕하세요, 저는 이영희이고 30살입니다.\n"
     ]
    }
   ],
   "source": [
    "# self 이해하기 1: 문제 상황\n",
    "class Person:\n",
    "    def __init__(self, name, age):\n",
    "        self.name = name  # 이 객체의 name\n",
    "        self.age = age    # 이 객체의 age\n",
    "    \n",
    "    def introduce(self):\n",
    "        # self가 없다면 어떤 객체의 name과 age를 사용할지 모름!\n",
    "        print(f\"안녕하세요, 저는 {self.name}이고 {self.age}살입니다.\")\n",
    "\n",
    "# 두 명의 다른 사람 객체 생성\n",
    "person1 = Person(\"김철수\", 25)\n",
    "person2 = Person(\"이영희\", 30)\n",
    "\n",
    "print(\"=== self의 역할 ===\")\n",
    "person1.introduce()  # self = person1이 됨\n",
    "person2.introduce()  # self = person2가 됨"
   ]
  },
  {
   "cell_type": "code",
   "execution_count": 11,
   "metadata": {},
   "outputs": [
    {
     "name": "stdout",
     "output_type": "stream",
     "text": [
      "=== 각 차마다 독립적인 self ===\n",
      "현대 빨간색 차가 30km/h 가속!\n",
      "현재 속도: 30km/h\n",
      "기아 파란색 차가 50km/h 가속!\n",
      "현재 속도: 50km/h\n",
      "\n",
      "=== 각 차의 정보 확인 ===\n",
      "브랜드: 현대, 색상: 빨간색, 속도: 30km/h\n",
      "브랜드: 기아, 색상: 파란색, 속도: 50km/h\n"
     ]
    }
   ],
   "source": [
    "# self 이해하기 2: self는 자동으로 전달됨\n",
    "class Car:\n",
    "    def __init__(self, brand, color):\n",
    "        self.brand = brand\n",
    "        self.color = color\n",
    "        self.speed = 0\n",
    "    \n",
    "    def accelerate(self, amount):\n",
    "        self.speed += amount  # 이 차의 속도를 증가\n",
    "        print(f\"{self.brand} {self.color} 차가 {amount}km/h 가속!\")\n",
    "        print(f\"현재 속도: {self.speed}km/h\")\n",
    "    \n",
    "    def show_info(self):\n",
    "        print(f\"브랜드: {self.brand}, 색상: {self.color}, 속도: {self.speed}km/h\")\n",
    "\n",
    "# 서로 다른 차 객체들\n",
    "my_car = Car(\"현대\", \"빨간색\")\n",
    "friend_car = Car(\"기아\", \"파란색\")\n",
    "\n",
    "print(\"=== 각 차마다 독립적인 self ===\")\n",
    "my_car.accelerate(30)        # self = my_car\n",
    "friend_car.accelerate(50)    # self = friend_car\n",
    "\n",
    "print(\"\\n=== 각 차의 정보 확인 ===\")\n",
    "my_car.show_info()           # self = my_car\n",
    "friend_car.show_info()       # self = friend_car"
   ]
  },
  {
   "cell_type": "code",
   "execution_count": 12,
   "metadata": {},
   "outputs": [
    {
     "name": "stdout",
     "output_type": "stream",
     "text": [
      "생성자에서 self: <__main__.Student object at 0x10964dd30>\n",
      "생성자에서 self: <__main__.Student object at 0x109653b10>\n",
      "\n",
      "student1 객체: <__main__.Student object at 0x10964dd30>\n",
      "student2 객체: <__main__.Student object at 0x109653b10>\n",
      "\n",
      "=== 메소드 호출 시 self 확인 ===\n",
      "메소드에서 self: <__main__.Student object at 0x10964dd30>\n",
      "김학생이(가) 공부 중...\n",
      "메소드에서 self: <__main__.Student object at 0x109653b10>\n",
      "이학생이(가) 공부 중...\n"
     ]
    }
   ],
   "source": [
    "# self 이해하기 3: self의 정체 확인하기\n",
    "class Student:\n",
    "    def __init__(self, name):\n",
    "        self.name = name\n",
    "        print(f\"생성자에서 self: {self}\")  # self가 뭔지 확인\n",
    "    \n",
    "    def study(self):\n",
    "        print(f\"메소드에서 self: {self}\")   # self가 뭔지 확인\n",
    "        print(f\"{self.name}이(가) 공부 중...\")\n",
    "\n",
    "# 학생 객체 생성\n",
    "student1 = Student(\"김학생\")\n",
    "student2 = Student(\"이학생\")\n",
    "\n",
    "print(f\"\\nstudent1 객체: {student1}\")  # 객체 자체 출력\n",
    "print(f\"student2 객체: {student2}\")    # 객체 자체 출력\n",
    "\n",
    "print(\"\\n=== 메소드 호출 시 self 확인 ===\")\n",
    "student1.study()  # self = student1\n",
    "student2.study()  # self = student2"
   ]
  },
  {
   "cell_type": "markdown",
   "metadata": {},
   "source": [
    "### self의 핵심 포인트\n",
    "\n",
    "1. **self = 현재 사용 중인 객체**\n",
    "   - `my_car.accelerate()` 호출 시 → `self`는 `my_car`\n",
    "   - `friend_car.accelerate()` 호출 시 → `self`는 `friend_car`\n",
    "\n",
    "2. **self는 자동으로 전달됨**\n",
    "   - 메소드 호출 시 파이썬이 자동으로 첫 번째 매개변수에 객체를 전달\n",
    "   - 우리가 직접 넘겨주지 않음\n",
    "\n",
    "3. **self를 통해 객체의 데이터에 접근**\n",
    "   - `self.name` → 이 객체의 name\n",
    "   - `self.age` → 이 객체의 age\n",
    "   - `self.speed` → 이 객체의 speed\n",
    "\n",
    "4. **self 없이는 구분 불가능**\n",
    "   - 같은 클래스의 여러 객체 중 어떤 것의 데이터인지 알 수 없음"
   ]
  },
  {
   "cell_type": "code",
   "execution_count": 13,
   "metadata": {},
   "outputs": [
    {
     "name": "stdout",
     "output_type": "stream",
     "text": [
      "김철수님의 계좌가 생성되었습니다. (잔액: 10000원)\n",
      "이영희님의 계좌가 생성되었습니다. (잔액: 5000원)\n",
      "\n",
      "=== 각자의 계좌 거래 ===\n",
      "김철수님이 3000원 입금\n",
      "현재 잔액: 13000원\n",
      "이영희님이 2000원 출금\n",
      "현재 잔액: 3000원\n",
      "\n",
      "=== 다시 거래 ===\n",
      "김철수님이 8000원 출금\n",
      "현재 잔액: 5000원\n",
      "이영희님이 7000원 입금\n",
      "현재 잔액: 10000원\n"
     ]
    }
   ],
   "source": [
    "# self 실습: 은행 계좌 예시\n",
    "class BankAccount:\n",
    "    def __init__(self, owner, balance=0):\n",
    "        self.owner = owner      # 이 계좌의 소유자\n",
    "        self.balance = balance  # 이 계좌의 잔액\n",
    "        print(f\"{self.owner}님의 계좌가 생성되었습니다. (잔액: {self.balance}원)\")\n",
    "    \n",
    "    def deposit(self, amount):\n",
    "        self.balance += amount  # 이 계좌의 잔액에 추가\n",
    "        print(f\"{self.owner}님이 {amount}원 입금\")\n",
    "        print(f\"현재 잔액: {self.balance}원\")\n",
    "    \n",
    "    def withdraw(self, amount):\n",
    "        if self.balance >= amount:\n",
    "            self.balance -= amount  # 이 계좌의 잔액에서 차감\n",
    "            print(f\"{self.owner}님이 {amount}원 출금\")\n",
    "            print(f\"현재 잔액: {self.balance}원\")\n",
    "        else:\n",
    "            print(f\"{self.owner}님, 잔액이 부족합니다! (현재: {self.balance}원)\")\n",
    "\n",
    "# 서로 다른 계좌들\n",
    "account1 = BankAccount(\"김철수\", 10000)\n",
    "account2 = BankAccount(\"이영희\", 5000)\n",
    "\n",
    "print(\"\\n=== 각자의 계좌 거래 ===\")\n",
    "account1.deposit(3000)   # self = account1 (김철수 계좌)\n",
    "account2.withdraw(2000)  # self = account2 (이영희 계좌)\n",
    "\n",
    "print(\"\\n=== 다시 거래 ===\")\n",
    "account1.withdraw(8000)  # self = account1 (김철수 계좌)\n",
    "account2.deposit(7000)   # self = account2 (이영희 계좌)"
   ]
  },
  {
   "cell_type": "markdown",
   "metadata": {},
   "source": [
    "## 객체 생성과 __init__의 관계\n",
    "\n",
    "`BankAccount(\"김철수\", 10000)` 호출 시 일어나는 일:"
   ]
  },
  {
   "cell_type": "code",
   "execution_count": null,
   "metadata": {},
   "outputs": [],
   "source": [
    "# 객체 생성 과정 자세히 보기\n",
    "class BankAccount:\n",
    "    def __init__(self, owner, balance=0):\n",
    "        print(f\"🔧 __init__ 메소드가 호출되었습니다!\")\n",
    "        print(f\"📋 받은 매개변수: owner='{owner}', balance={balance}\")\n",
    "        \n",
    "        # 객체의 속성 설정\n",
    "        self.owner = owner      # \"김철수\"가 self.owner에 저장\n",
    "        self.balance = balance  # 10000이 self.balance에 저장\n",
    "        \n",
    "        print(f\"✅ {self.owner}님의 계좌 초기화 완료!\")\n",
    "        print(f\"💰 초기 잔액: {self.balance}원\")\n",
    "        print(\"-\" * 40)\n",
    "\n",
    "print(\"=== 객체 생성 과정 단계별 확인 ===\")\n",
    "print(\"1️⃣ BankAccount('김철수', 10000) 호출...\")\n",
    "account1 = BankAccount(\"김철수\", 10000)\n",
    "\n",
    "print(\"\\n2️⃣ BankAccount('이영희', 5000) 호출...\")\n",
    "account2 = BankAccount(\"이영희\", 5000)\n",
    "\n",
    "print(\"\\n3️⃣ BankAccount('박민수') 호출... (balance 기본값 사용)\")\n",
    "account3 = BankAccount(\"박민수\")  # balance는 기본값 0"
   ]
  },
  {
   "cell_type": "code",
   "execution_count": null,
   "metadata": {},
   "outputs": [],
   "source": [
    "# 매개변수와 인수의 대응 관계 보기\n",
    "class Person:\n",
    "    def __init__(self, name, age, city=\"서울\"):  # 매개변수 정의\n",
    "        print(f\"🎯 매개변수 받기:\")\n",
    "        print(f\"   name 매개변수 ← '{name}' 인수\")\n",
    "        print(f\"   age 매개변수 ← {age} 인수\") \n",
    "        print(f\"   city 매개변수 ← '{city}' 인수\")\n",
    "        \n",
    "        # 객체 속성에 저장\n",
    "        self.name = name\n",
    "        self.age = age  \n",
    "        self.city = city\n",
    "        print(f\"✨ {self.name}님 객체 생성 완료!\\n\")\n",
    "\n",
    "print(\"=== 매개변수와 인수의 대응 ===\")\n",
    "print(\"👤 Person('김철수', 25, '부산') 호출:\")\n",
    "person1 = Person(\"김철수\", 25, \"부산\")  # 인수 전달\n",
    "\n",
    "print(\"👤 Person('이영희', 30) 호출:\")\n",
    "person2 = Person(\"이영희\", 30)  # city는 기본값 \"서울\" 사용\n",
    "\n",
    "# 결과 확인\n",
    "print(\"📊 생성된 객체들의 속성:\")\n",
    "print(f\"person1: 이름={person1.name}, 나이={person1.age}, 도시={person1.city}\")\n",
    "print(f\"person2: 이름={person2.name}, 나이={person2.age}, 도시={person2.city}\")"
   ]
  },
  {
   "cell_type": "markdown",
   "metadata": {},
   "source": [
    "## self의 정체를 단계별로 이해하기\n",
    "\n",
    "정확히 좋은 질문입니다! `self`의 개념을 단계별로 명확하게 설명해드리겠습니다.\n",
    "\n",
    "### 1단계: 객체 생성 과정\n",
    "`student1 = Student(\"김학생\")` 실행 시:\n",
    "\n",
    "1. **파이썬이 빈 객체를 메모리에 생성** (아직 데이터 없음)\n",
    "2. **그 빈 객체를 `self`에 전달** \n",
    "3. **`__init__` 메소드가 실행**되면서 `self`를 통해 객체에 데이터를 저장\n",
    "4. **완성된 객체를 `student1` 변수에 할당**\n",
    "\n",
    "### 2단계: self는 \"현재 작업 중인 객체\"를 가리키는 참조\n",
    "- `self` = 메모리 어딘가에 있는 **특정 객체의 주소**\n",
    "- 클래스 정보가 self로 가는 것이 아님!\n",
    "- **개별 객체**가 self로 전달됨\n",
    "\n",
    "### 3단계: 핵심 포인트\n",
    "- **클래스** = 객체를 만드는 설계도 (1개)\n",
    "- **객체** = 클래스로 만들어진 실제 데이터 덩어리 (여러 개 가능)\n",
    "- **self** = 현재 사용 중인 그 객체를 가리키는 변수"
   ]
  },
  {
   "cell_type": "code",
   "execution_count": 14,
   "metadata": {},
   "outputs": [
    {
     "name": "stdout",
     "output_type": "stream",
     "text": [
      "=== self의 정체 파악하기 ===\n",
      "🚀 Student('김학생') 호출!\n",
      "🏗️ 1단계: __init__ 시작!\n",
      "🎯 2단계: self는 무엇인가? <__main__.Student object at 0x10964d7f0>\n",
      "📦 3단계: self의 타입은? <class '__main__.Student'>\n",
      "💾 4단계: self.name에 '김학생' 저장 완료!\n",
      "🔍 5단계: self가 가진 데이터 확인: {'name': '김학생'}\n",
      "--------------------------------------------------\n",
      "\n",
      "🚀 Student('이학생') 호출!\n",
      "🏗️ 1단계: __init__ 시작!\n",
      "🎯 2단계: self는 무엇인가? <__main__.Student object at 0x109652990>\n",
      "📦 3단계: self의 타입은? <class '__main__.Student'>\n",
      "💾 4단계: self.name에 '이학생' 저장 완료!\n",
      "🔍 5단계: self가 가진 데이터 확인: {'name': '이학생'}\n",
      "--------------------------------------------------\n",
      "\n",
      "=== 최종 결과 확인 ===\n",
      "student1이 가리키는 객체: <__main__.Student object at 0x10964d7f0>\n",
      "student2가 가리키는 객체: <__main__.Student object at 0x109652990>\n",
      "student1의 데이터: {'name': '김학생'}\n",
      "student2의 데이터: {'name': '이학생'}\n",
      "\n",
      "student1 객체의 메모리 주소: 4452571120\n",
      "student2 객체의 메모리 주소: 4452592016\n",
      "👆 서로 다른 메모리 위치 = 서로 다른 객체!\n"
     ]
    }
   ],
   "source": [
    "# self의 정체를 명확하게 보여주는 예시\n",
    "class Student:\n",
    "    def __init__(self, name):\n",
    "        print(f\"🏗️ 1단계: __init__ 시작!\")\n",
    "        print(f\"🎯 2단계: self는 무엇인가? {self}\")\n",
    "        print(f\"📦 3단계: self의 타입은? {type(self)}\")\n",
    "        \n",
    "        # 이제 self(객체)에 데이터를 저장\n",
    "        self.name = name\n",
    "        print(f\"💾 4단계: self.name에 '{name}' 저장 완료!\")\n",
    "        print(f\"🔍 5단계: self가 가진 데이터 확인: {self.__dict__}\")\n",
    "        print(\"-\" * 50)\n",
    "\n",
    "print(\"=== self의 정체 파악하기 ===\")\n",
    "\n",
    "# 첫 번째 객체 생성\n",
    "print(\"🚀 Student('김학생') 호출!\")\n",
    "student1 = Student(\"김학생\")\n",
    "\n",
    "# 두 번째 객체 생성  \n",
    "print(\"\\n🚀 Student('이학생') 호출!\")\n",
    "student2 = Student(\"이학생\")\n",
    "\n",
    "# 결과 확인\n",
    "print(\"\\n=== 최종 결과 확인 ===\")\n",
    "print(f\"student1이 가리키는 객체: {student1}\")\n",
    "print(f\"student2가 가리키는 객체: {student2}\")\n",
    "print(f\"student1의 데이터: {student1.__dict__}\")\n",
    "print(f\"student2의 데이터: {student2.__dict__}\")\n",
    "\n",
    "# 객체 주소 확인 (메모리 위치)\n",
    "print(f\"\\nstudent1 객체의 메모리 주소: {id(student1)}\")\n",
    "print(f\"student2 객체의 메모리 주소: {id(student2)}\")\n",
    "print(\"👆 서로 다른 메모리 위치 = 서로 다른 객체!\")"
   ]
  },
  {
   "cell_type": "markdown",
   "metadata": {},
   "source": [
    "### 위 결과로 알 수 있는 핵심 사실들:\n",
    "\n",
    "1. **`self`는 클래스 정보가 아니라 개별 객체입니다**\n",
    "   - `<__main__.Student object at 0x10964d7f0>` ← 이것이 실제 객체\n",
    "   - `0x10964d7f0`과 `0x109652990` ← 서로 다른 메모리 주소\n",
    "\n",
    "2. **각 객체마다 독립적인 데이터를 가집니다**\n",
    "   - student1: `{'name': '김학생'}`\n",
    "   - student2: `{'name': '이학생'}`\n",
    "\n",
    "3. **self = 현재 작업 중인 그 특정 객체**\n",
    "   - 첫 번째 `__init__` 호출 시 → `self` = student1 객체\n",
    "   - 두 번째 `__init__` 호출 시 → `self` = student2 객체\n",
    "\n",
    "### 정리하면:\n",
    "- **클래스(Student)** → 객체를 만드는 설계도 (1개)\n",
    "- **객체(student1, student2)** → 실제 만들어진 데이터 덩어리 (여러 개)  \n",
    "- **self** → 현재 작업 중인 특정 객체를 가리키는 변수\n",
    "\n",
    "**즉, 클래스 정보가 self로 가는 것이 아니라, 개별 객체가 self로 전달되는 것입니다!**"
   ]
  },
  {
   "cell_type": "markdown",
   "metadata": {},
   "source": [
    "## self와 객체의 관계 정확히 이해하기\n",
    "\n",
    "질문하신 내용을 정확히 정리해드리겠습니다!\n",
    "\n",
    "### ❌ 잘못된 이해\n",
    "\"self가 Student 클래스 안에서의 데이터\"\n",
    "\n",
    "### ✅ 올바른 이해  \n",
    "\"self는 **특정 객체**를 가리키고, `self.name`은 **그 특정 객체의 name 속성**\"\n",
    "\n",
    "### 핵심 구분점:\n",
    "- **클래스(Student)** = 설계도 (데이터 없음, 구조만 정의)\n",
    "- **객체(student1)** = 실제 데이터를 가진 개체\n",
    "- **self** = 현재 작업 중인 그 특정 객체\n",
    "\n",
    "### 쉬운 예시:\n",
    "```python\n",
    "student1 = Student(\"김학생\")  # student1 객체 생성\n",
    "student2 = Student(\"이학생\")  # student2 객체 생성\n",
    "```\n",
    "\n",
    "- `student1.study()` 호출 시:\n",
    "  - `self` = `student1` 객체\n",
    "  - `self.name` = `student1.name` = \"김학생\"\n",
    "\n",
    "- `student2.study()` 호출 시:  \n",
    "  - `self` = `student2` 객체\n",
    "  - `self.name` = `student2.name` = \"이학생\""
   ]
  },
  {
   "cell_type": "code",
   "execution_count": 15,
   "metadata": {},
   "outputs": [
    {
     "name": "stdout",
     "output_type": "stream",
     "text": [
      "=== 각 객체마다 독립적인 self.name ===\n",
      "1️⃣ 첫 번째 학생 생성:\n",
      "📝 self는 누구인가? 4452572464\n",
      "💾 self.name = '김학생' 저장됨\n",
      "student1 객체 주소: 4452572464\n",
      "\n",
      "2️⃣ 두 번째 학생 생성:\n",
      "📝 self는 누구인가? 4452590096\n",
      "💾 self.name = '이학생' 저장됨\n",
      "student2 객체 주소: 4452590096\n",
      "\n",
      "=== 각각의 self.name 확인 ===\n",
      "student1.introduce() 호출:\n",
      "🎯 introduce 메소드에서 self: 4452572464\n",
      "📖 self.name 읽기: '김학생'\n",
      "👋 안녕하세요, 저는 김학생입니다!\n",
      "\n",
      "student2.introduce() 호출:\n",
      "🎯 introduce 메소드에서 self: 4452590096\n",
      "📖 self.name 읽기: '이학생'\n",
      "👋 안녕하세요, 저는 이학생입니다!\n",
      "\n",
      "=== 핵심 포인트 ===\n",
      "🔍 student1의 self.name과 student2의 self.name은 완전히 다른 메모리 공간에 저장됨!\n",
      "student1.name: '김학생' (주소: 4526219680)\n",
      "student2.name: '이학생' (주소: 4526219360)\n",
      "💡 self는 클래스 데이터가 아니라 개별 객체를 가리킴!\n"
     ]
    }
   ],
   "source": [
    "# self.name의 정확한 의미 보여주기\n",
    "class Student:\n",
    "    def __init__(self, name):\n",
    "        print(f\"📝 self는 누구인가? {id(self)}\")  # self의 메모리 주소\n",
    "        self.name = name  # 이 특정 객체의 name 속성에 값 저장\n",
    "        print(f\"💾 self.name = '{self.name}' 저장됨\")\n",
    "    \n",
    "    def introduce(self):\n",
    "        print(f\"🎯 introduce 메소드에서 self: {id(self)}\")\n",
    "        print(f\"📖 self.name 읽기: '{self.name}'\")\n",
    "        print(f\"👋 안녕하세요, 저는 {self.name}입니다!\")\n",
    "\n",
    "print(\"=== 각 객체마다 독립적인 self.name ===\")\n",
    "\n",
    "# 첫 번째 학생 객체\n",
    "print(\"1️⃣ 첫 번째 학생 생성:\")\n",
    "student1 = Student(\"김학생\")\n",
    "print(f\"student1 객체 주소: {id(student1)}\")\n",
    "\n",
    "print(\"\\n2️⃣ 두 번째 학생 생성:\")  \n",
    "student2 = Student(\"이학생\")\n",
    "print(f\"student2 객체 주소: {id(student2)}\")\n",
    "\n",
    "print(\"\\n=== 각각의 self.name 확인 ===\")\n",
    "print(\"student1.introduce() 호출:\")\n",
    "student1.introduce()\n",
    "\n",
    "print(\"\\nstudent2.introduce() 호출:\")\n",
    "student2.introduce()\n",
    "\n",
    "print(\"\\n=== 핵심 포인트 ===\")\n",
    "print(\"🔍 student1의 self.name과 student2의 self.name은 완전히 다른 메모리 공간에 저장됨!\")\n",
    "print(f\"student1.name: '{student1.name}' (주소: {id(student1.name)})\")\n",
    "print(f\"student2.name: '{student2.name}' (주소: {id(student2.name)})\")\n",
    "print(\"💡 self는 클래스 데이터가 아니라 개별 객체를 가리킴!\")"
   ]
  },
  {
   "cell_type": "markdown",
   "metadata": {},
   "source": [
    "## 🎯 완벽한 이해! self의 정체 최종 정리\n",
    "\n",
    "### ✅ 정답: \"self는 student1 객체에서의 데이터\"\n",
    "\n",
    "정확합니다! 이제 완벽하게 이해하셨습니다!\n",
    "\n",
    "### 핵심 구분:\n",
    "1. **Student 클래스** = 설계도 (데이터 없음)\n",
    "2. **student1 객체** = 실제 데이터를 가진 개체\n",
    "3. **self** = 현재 작업 중인 그 특정 객체 (student1 또는 student2)\n",
    "\n",
    "### 실제 동작:\n",
    "- `student1 = Student(\"김학생\")` 실행 시:\n",
    "  - `self` = `student1` 객체\n",
    "  - `self.name` = `student1.name` = \"김학생\"\n",
    "  \n",
    "- `student2 = Student(\"이학생\")` 실행 시:\n",
    "  - `self` = `student2` 객체  \n",
    "  - `self.name` = `student2.name` = \"이학생\"\n",
    "\n",
    "### 메소드 호출 시:\n",
    "- `student1.introduce()` → `self` = `student1` 객체\n",
    "- `student2.introduce()` → `self` = `student2` 객체\n",
    "\n",
    "**즉, `self`는 클래스 데이터가 아니라 개별 객체의 데이터입니다!**"
   ]
  },
  {
   "cell_type": "markdown",
   "metadata": {},
   "source": [
    "### 위 결과로 명확해진 사실들:\n",
    "\n",
    "1. **`self`의 정체**\n",
    "   - `self`는 **특정 객체의 메모리 주소**를 가리킴\n",
    "   - student1 생성 시: `self` = 주소 4452572464\n",
    "   - student2 생성 시: `self` = 주소 4452590096\n",
    "   - **각각 다른 객체!**\n",
    "\n",
    "2. **`self.name`의 의미**\n",
    "   - `self.name` = \"현재 이 객체의 name 속성\"\n",
    "   - student1에서 `self.name` = \"김학생\" \n",
    "   - student2에서 `self.name` = \"이학생\"\n",
    "   - **각각 독립적인 데이터!**\n",
    "\n",
    "3. **클래스 vs 객체의 구분**\n",
    "   - **Student 클래스** = 설계도 (데이터 저장 안함)\n",
    "   - **student1, student2 객체** = 실제 데이터를 가진 개체들\n",
    "   - **self** = 그 중 현재 작업 중인 특정 객체\n",
    "\n",
    "### 정답:\n",
    "**\"self.name은 현재 작업 중인 특정 객체의 name 속성\"**\n",
    "\n",
    "클래스 안의 데이터가 아니라, **개별 객체 안의 데이터**입니다!"
   ]
  },
  {
   "cell_type": "markdown",
   "metadata": {
    "slideshow": {
     "slide_type": "subslide"
    }
   },
   "source": [
    "## Property/Attribute(속성) - instance 변수\n",
    "\n",
    "-   Property/attribute는 객체의 데이터, 객체를 구성하는 값들, 객체의 속성값들을 말한다.\n",
    "-   값을 저장하므로 변수로 정의한다. 그래서 **instance 변수** 라고 한다.\n",
    "\n",
    "### 객체에 속성을 추가, 조회\n",
    "\n",
    "-   **객체의 속성 추가(값 변경)**\n",
    "    1. Initializer(생성자)를 통한 추가\n",
    "        - 객체에 처음 attribute를 정의한다. 이것을 **초기화** 라고 한다.\n",
    "    2. 객체.속성명 = 값 (추가/변경)\n",
    "    3. 메소드를 통한 추가/변경\n",
    "        - 2, 3번 방식은 initializer에서 초기화한 attribute를 변경한다.\n",
    "-   **속성 값 조회**\n",
    "    -   `객체.속성명`\n",
    "-   `객체.___dict__`\n",
    "    -   객체가 가지고 있는 Attribute들을 dictionary로 반환한다.\n"
   ]
  },
  {
   "cell_type": "markdown",
   "metadata": {
    "slideshow": {
     "slide_type": "subslide"
    }
   },
   "source": [
    "### 생성자(Initializer)\n",
    "\n",
    "-   객체를 생성할 때 호출되는 특수메소드로 attribute들 초기화에 하는 코드를 구현한다.\n",
    "    -   Initializer를 이용해 초기화하는 Attribute들이 그 클래스에서 생성된 객체들이 가지는 Attribute가 된다.\n",
    "    -   객체 생성후 새로운 attribute들을 추가 할 수 있지만 하지 않는 것이 좋다.\n",
    "-   구문\n",
    "\n",
    "```python\n",
    "def __init__(self [,매개변수들 선언]):  #[ ] 옵션.\n",
    "    # 구현 -> attribute(instance변수) 초기화\n",
    "    self.속성명 = 값\n",
    "```\n",
    "\n",
    "> 변수 초기화: 처음 변수 만들어서 처음 값 대입하는 것.\n"
   ]
  },
  {
   "cell_type": "code",
   "execution_count": null,
   "metadata": {},
   "outputs": [],
   "source": [
    "# 생성자(Initializer)를 가진 클래스 정의\n",
    "class Student:\n",
    "    def __init__(self, name, age, student_id, major):\n",
    "        # 인스턴스 변수 초기화\n",
    "        self.name = name\n",
    "        self.age = age\n",
    "        self.student_id = student_id\n",
    "        self.major = major\n",
    "        self.grades = []  # 빈 리스트로 초기화\n",
    "        print(f\"학생 {name}이 생성되었습니다.\")\n",
    "\n",
    "# 생성자를 통한 객체 생성\n",
    "student1 = Student(\"김철수\", 20, \"2024001\", \"컴퓨터공학\")\n",
    "student2 = Student(\"이영희\", 19, \"2024002\", \"수학과\")\n",
    "\n",
    "print(f\"\\n학생1 정보: {student1.__dict__}\")\n",
    "print(f\"학생2 정보: {student2.__dict__}\")\n",
    "\n",
    "# 속성 접근\n",
    "print(f\"\\n{student1.name}의 전공: {student1.major}\")\n",
    "print(f\"{student2.name}의 학번: {student2.student_id}\")"
   ]
  },
  {
   "cell_type": "code",
   "execution_count": null,
   "metadata": {
    "slideshow": {
     "slide_type": "fragment"
    }
   },
   "outputs": [],
   "source": [
    "# 다양한 매개변수를 가진 생성자 예시\n",
    "class BankAccount:\n",
    "    def __init__(self, account_number, owner, balance=0):  # balance는 기본값 0\n",
    "        self.account_number = account_number\n",
    "        self.owner = owner\n",
    "        self.balance = balance\n",
    "        self.transaction_history = []\n",
    "        \n",
    "    def __init__(self, account_number, owner, balance=0, account_type=\"일반\"):\n",
    "        self.account_number = account_number\n",
    "        self.owner = owner\n",
    "        self.balance = balance\n",
    "        self.account_type = account_type\n",
    "        self.transaction_history = []\n",
    "\n",
    "# 다양한 방식으로 객체 생성\n",
    "account1 = BankAccount(\"123-456-789\", \"김철수\")  # balance는 기본값 0\n",
    "account2 = BankAccount(\"987-654-321\", \"이영희\", 100000)  # balance 지정\n",
    "account3 = BankAccount(\"555-111-222\", \"박민수\", 50000, \"적금\")  # 모든 값 지정\n",
    "\n",
    "print(f\"계좌1: {account1.owner}, 잔액: {account1.balance}원, 타입: {account1.account_type}\")\n",
    "print(f\"계좌2: {account2.owner}, 잔액: {account2.balance}원, 타입: {account2.account_type}\")\n",
    "print(f\"계좌3: {account3.owner}, 잔액: {account3.balance}원, 타입: {account3.account_type}\")"
   ]
  },
  {
   "cell_type": "markdown",
   "metadata": {
    "slideshow": {
     "slide_type": "subslide"
    }
   },
   "source": [
    "### Instance 메소드(method)\n",
    "\n",
    "-   객체가 제공하는 기능\n",
    "-   객체의 attribute 값을 처리하는 기능을 구현한다.\n",
    "-   구문\n",
    "\n",
    "```python\n",
    "def 이름(self [, 매개변수들 선언]):\n",
    "    # 구현\n",
    "    # attribute 사용(조회/대입)\n",
    "    self.attribute\n",
    "```\n",
    "\n",
    "-   self 매개변수 - 메소드를 소유한 객체를 받는 변수 - 호출할 때 전달하는 argument를 받는 매개변수는 두번째 부터 선언한다.<br><br>\n",
    "    ![self](images/ch06_01.png)\n",
    "-   **메소드 호출**\n",
    "    -   `객체.메소드이름([argument, ...])`\n",
    "\n",
    "### instance 메소드의 self parameter\n",
    "\n",
    "-   메소드는 반드시 한개 이상의 parameter를 선언해야 하고 그 첫번째 parameter는 **관례적으로** 변수명을 `self`로 한다.\n",
    "-   메소드 호출시 그 메소드를 소유한 instance가 self parameter에 할당된다.\n",
    "    -   메소드 안에서 self는 instance를 가리키며 그 instance에 정의된 attribute나 method를 호출 할 때 사용한다.\n",
    "-   **Initializer의 self**\n",
    "    -   현재 만들어 지고 있는 객체를 받는다.\n",
    "-   **메소드의 self**\n",
    "    -   메소드를 소유한 객체를 받는다.\n",
    "-   Caller에서 생성자/메소드에 전달된 argument들을 받을 parameter는 두번째 변수부터 선언한다.\n"
   ]
  },
  {
   "cell_type": "code",
   "execution_count": null,
   "metadata": {
    "slideshow": {
     "slide_type": "fragment"
    }
   },
   "outputs": [],
   "source": [
    "# 인스턴스 메소드가 있는 클래스\n",
    "class BankAccount:\n",
    "    def __init__(self, account_number, owner, balance=0):\n",
    "        self.account_number = account_number\n",
    "        self.owner = owner\n",
    "        self.balance = balance\n",
    "        self.transaction_history = []\n",
    "    \n",
    "    def deposit(self, amount):  # 입금 메소드\n",
    "        if amount > 0:\n",
    "            self.balance += amount\n",
    "            self.transaction_history.append(f\"입금: +{amount}원\")\n",
    "            return f\"{amount}원이 입금되었습니다. 현재 잔액: {self.balance}원\"\n",
    "        else:\n",
    "            return \"입금액은 0보다 커야 합니다.\"\n",
    "    \n",
    "    def withdraw(self, amount):  # 출금 메소드\n",
    "        if amount > 0 and amount <= self.balance:\n",
    "            self.balance -= amount\n",
    "            self.transaction_history.append(f\"출금: -{amount}원\")\n",
    "            return f\"{amount}원이 출금되었습니다. 현재 잔액: {self.balance}원\"\n",
    "        elif amount > self.balance:\n",
    "            return \"잔액이 부족합니다.\"\n",
    "        else:\n",
    "            return \"출금액은 0보다 커야 합니다.\"\n",
    "    \n",
    "    def get_balance(self):  # 잔액 조회 메소드\n",
    "        return f\"{self.owner}님의 잔액: {self.balance}원\"\n",
    "    \n",
    "    def get_transaction_history(self):  # 거래내역 조회 메소드\n",
    "        if self.transaction_history:\n",
    "            return \"\\n\".join(self.transaction_history)\n",
    "        else:\n",
    "            return \"거래 내역이 없습니다.\"\n",
    "\n",
    "# 메소드 사용 예시\n",
    "my_account = BankAccount(\"123-456-789\", \"김철수\", 10000)\n",
    "\n",
    "print(my_account.get_balance())\n",
    "print(my_account.deposit(5000))\n",
    "print(my_account.withdraw(3000))\n",
    "print(my_account.withdraw(15000))  # 잔액 부족\n",
    "print(my_account.get_balance())\n",
    "print(\"\\n거래내역:\")\n",
    "print(my_account.get_transaction_history())"
   ]
  },
  {
   "cell_type": "code",
   "execution_count": null,
   "metadata": {},
   "outputs": [],
   "source": [
    "# self 매개변수의 역할 이해하기\n",
    "class Calculator:\n",
    "    def __init__(self, name):\n",
    "        self.name = name\n",
    "        self.result = 0\n",
    "    \n",
    "    def add(self, num):\n",
    "        self.result += num\n",
    "        print(f\"{self.name}: {self.result}\")\n",
    "        return self  # 메소드 체이닝을 위해 자기 자신 반환\n",
    "    \n",
    "    def subtract(self, num):\n",
    "        self.result -= num\n",
    "        print(f\"{self.name}: {self.result}\")\n",
    "        return self\n",
    "    \n",
    "    def multiply(self, num):\n",
    "        self.result *= num\n",
    "        print(f\"{self.name}: {self.result}\")\n",
    "        return self\n",
    "    \n",
    "    def reset(self):\n",
    "        self.result = 0\n",
    "        print(f\"{self.name}: 초기화됨\")\n",
    "        return self\n",
    "    \n",
    "    def get_result(self):\n",
    "        return f\"{self.name}의 최종 결과: {self.result}\"\n",
    "\n",
    "# 여러 계산기 객체 생성\n",
    "calc1 = Calculator(\"계산기1\")\n",
    "calc2 = Calculator(\"계산기2\")\n",
    "\n",
    "# 각각 독립적으로 계산\n",
    "calc1.add(10).multiply(2).subtract(5)\n",
    "calc2.add(100).subtract(30).multiply(3)\n",
    "\n",
    "print(calc1.get_result())\n",
    "print(calc2.get_result())\n",
    "\n",
    "# self가 각각의 객체를 가리키는 것을 확인\n",
    "print(f\"calc1 객체 ID: {id(calc1)}\")\n",
    "print(f\"calc2 객체 ID: {id(calc2)}\")"
   ]
  },
  {
   "cell_type": "markdown",
   "metadata": {
    "slideshow": {
     "slide_type": "slide"
    }
   },
   "source": [
    "## 상속 (Inheritance)\n",
    "\n",
    "-   기존 클래스를 확장하여 새로운 클래스를 구현한다.\n",
    "    -   생성된 객체(instance)가 기존 클래스에 정의된 Attribute나 method를 사용할 수있고 그 외의 추가적인 attribute와 method들을 가질 수 있는 클래스를 구현하는 방법.\n",
    "    -   같은 category의 클래스들을 하나로 묶어주는 역할을 한다.\n",
    "-   **기반(Base) 클래스, 상위(Super) 클래스, 부모(Parent) 클래스**\n",
    "    -   물려 주는 클래스.\n",
    "    -   상속하는 클래스에 비해 더 추상적인 클래스가 된다.\n",
    "    -   상속하는 클래스의 데이터 타입이 된다.\n",
    "-   **파생(Derived) 클래스, 하위(Sub) 클래스, 자식(Child) 클래스**\n",
    "    -   상속하는 클래스.\n",
    "    -   상속을 해준 클래스 보다 좀더 구체적인 클래스가 된다.\n",
    "-   상위 클래스와 하위 클래스는 계층관계를 이룬다.\n",
    "    -   상위 클래스는 하위 클래스 객체의 타입이 된다.\n",
    "-   다중상속\n",
    "    -   하나의 클래스가 여러 클래스를 상속받아 정의 하는 것을 다중상속이라고 하며 **파이썬은 다중상속이 가능하다.**\n",
    "-   MRO (Method Resolution Order)\n",
    "    -   다중상속시 메소드 호출할 때 그 메소드를 찾는 순서.\n",
    "    1. 자기 자신\n",
    "    2. 상위클래스(하위에서 상위로 올라간다)\n",
    "        - 다중상속의 경우 먼저 선언한 클래스 부터 찾는다. (왼쪽->오른쪽)\n",
    "-   MRO 순서 조회\n",
    "    -   Class이름.mro()\n",
    "-   `object` class\n",
    "    -   모든 클래스의 최상위 클래스\n",
    "    -   상속 하지 않은 클래스는 `object` 를 상속받는다.\n",
    "    -   special method, special attribute 를 정의 하고 있다.\n",
    "\n",
    "```python\n",
    "class Parent1:\n",
    "    ...\n",
    "\n",
    "class Parent2:\n",
    "    ...\n",
    "\n",
    "class Sub(Parent1, Parent1):\n",
    "    ...\n",
    "```\n"
   ]
  },
  {
   "cell_type": "code",
   "execution_count": 23,
   "metadata": {},
   "outputs": [
    {
     "name": "stdout",
     "output_type": "stream",
     "text": [
      "이름: 동물이, 종: 포유류, 나이: 0살\n",
      "동물이이(가) 음식을 먹고 있습니다.\n",
      "동물이이(가) 소리를 냅니다.\n"
     ]
    }
   ],
   "source": [
    "# 상속 예시 - 기본 클래스\n",
    "class Animal:\n",
    "    def __init__(self, name, species):\n",
    "        self.name = name\n",
    "        self.species = species\n",
    "        self.age = 0\n",
    "    \n",
    "    def eat(self):\n",
    "        return f\"{self.name}이(가) 음식을 먹고 있습니다.\"\n",
    "    \n",
    "    def sleep(self):\n",
    "        return f\"{self.name}이(가) 잠을 자고 있습니다.\"\n",
    "    \n",
    "    def make_sound(self):\n",
    "        return f\"{self.name}이(가) 소리를 냅니다.\"\n",
    "    \n",
    "    def get_info(self):\n",
    "        return f\"이름: {self.name}, 종: {self.species}, 나이: {self.age}살\"\n",
    "\n",
    "# 동물 객체 생성\n",
    "animal1 = Animal(\"동물이\", \"포유류\")\n",
    "print(animal1.get_info())\n",
    "print(animal1.eat())\n",
    "print(animal1.make_sound())"
   ]
  },
  {
   "cell_type": "code",
   "execution_count": null,
   "metadata": {
    "slideshow": {
     "slide_type": "fragment"
    }
   },
   "outputs": [
    {
     "name": "stdout",
     "output_type": "stream",
     "text": [
      "=== 강아지 ===\n",
      "이름: 멍멍이, 종: 개, 나이: 0살\n",
      "멍멍이이(가) 음식을 먹고 있습니다.\n",
      "멍멍이이(가) 멍멍 짖습니다.\n",
      "멍멍이이(가) 공을 가져옵니다.\n",
      "\n",
      "=== 고양이 ===\n",
      "이름: 야옹이, 종: 고양이, 나이: 0살\n",
      "야옹이이(가) 야옹 웁니다.\n",
      "야옹이이(가) 나무에 올라갑니다.\n",
      "\n",
      "=== 새 ===\n",
      "이름: 짹짹이, 종: 새, 나이: 0살\n",
      "짹짹이이(가) 짹짹 웁니다.\n",
      "짹짹이이(가) 날개폭 30cm로 날아갑니다.\n",
      "\n",
      "dog는 Animal의 인스턴스인가? True\n",
      "dog는 Dog의 인스턴스인가? True\n",
      "cat는 Dog의 인스턴스인가? False\n"
     ]
    }
   ],
   "source": [
    "# 상속을 이용한 하위 클래스들\n",
    "class Dog(Animal):\n",
    "    def __init__(self, name, breed):\n",
    "        super().__init__(name, \"개\")  # 부모 클래스의 생성자 호출\n",
    "        self.breed = breed\n",
    "    \n",
    "    def make_sound(self):  # 메소드 오버라이딩\n",
    "        return f\"{self.name}이(가) 멍멍 짖습니다.\"\n",
    "    \n",
    "    def fetch(self):  # 새로운 메소드 추가\n",
    "        return f\"{self.name}이(가) 공을 가져옵니다.\"\n",
    "\n",
    "class Cat(Animal):\n",
    "    def __init__(self, name, color):\n",
    "        super().__init__(name, \"고양이\")\n",
    "        self.color = color\n",
    "    \n",
    "    def make_sound(self):  # 메소드 오버라이딩\n",
    "        return f\"{self.name}이(가) 야옹 웁니다.\"\n",
    "    \n",
    "    def climb(self):  # 새로운 메소드 추가\n",
    "        return f\"{self.name}이(가) 나무에 올라갑니다.\"\n",
    "\n",
    "class Bird(Animal):\n",
    "    def __init__(self, name, wing_span):\n",
    "        super().__init__(name, \"새\")\n",
    "        self.wing_span = wing_span\n",
    "    \n",
    "    def make_sound(self):  # 메소드 오버라이딩\n",
    "        return f\"{self.name}이(가) 짹짹 웁니다.\"\n",
    "    \n",
    "    def fly(self):  # 새로운 메소드 추가\n",
    "        return f\"{self.name}이(가) 날개폭 {self.wing_span}cm로 날아갑니다.\"\n",
    "\n",
    "# 하위 클래스 객체들 생성\n",
    "dog = Dog(\"멍멍이\", \"골든리트리버\")\n",
    "cat = Cat(\"야옹이\", \"검은색\")\n",
    "bird = Bird(\"짹짹이\", 30)\n",
    "\n",
    "print(\"=== 강아지 ===\")\n",
    "print(dog.get_info())\n",
    "print(dog.eat())\n",
    "print(dog.make_sound())  # 오버라이딩된 메소드\n",
    "print(dog.fetch())       # Dog만의 메소드\n",
    "\n",
    "print(\"\\n=== 고양이 ===\")\n",
    "print(cat.get_info())\n",
    "print(cat.make_sound())  # 오버라이딩된 메소드\n",
    "print(cat.climb())       # Cat만의 메소드\n",
    "\n",
    "print(\"\\n=== 새 ===\")\n",
    "print(bird.get_info())\n",
    "print(bird.make_sound()) # 오버라이딩된 메소드\n",
    "print(bird.fly())        # Bird만의 메소드\n",
    "\n",
    "# 상속 관계 확인\n",
    "print(f\"\\ndog는 Animal의 인스턴스인가? {isinstance(dog, Animal)}\")\n",
    "print(f\"dog는 Dog의 인스턴스인가? {isinstance(dog, Dog)}\")\n",
    "print(f\"cat는 Dog의 인스턴스인가? {isinstance(cat, Dog)}\")"
   ]
  },
  {
   "cell_type": "markdown",
   "metadata": {
    "slideshow": {
     "slide_type": "subslide"
    }
   },
   "source": [
    "### Method Overriding (메소드 재정의)\n",
    "\n",
    "상위 클래스에 정의한 메소드의 구현부를 하위 클래스에서 다시 구현하는 것.\n",
    "상위 클래스는 모든 하위 클래스들에 적용할 수 있는 추상적인 구현 밖에는 못한다.  \n",
    "하위 클래스에서 그 기능을 자신에 맞게 좀 더 구체적으로 재구현할 수 있게 해주는 것을 Method Overriding이라고 한다.\n",
    "\n",
    "-   방법: 메소드 선언은 동일하게 하고 구현부는 새롭게 구현한다.\n",
    "\n",
    "### super() 내장함수\n",
    "\n",
    "-   하위 클래스에서 **상위 클래스의 instance를** 사용할 수있도록 해주는 함수. 상위클래스에 정의된 instance 변수, 메소드를 호출할 때 사용한다.\n",
    "-   구문\n",
    "\n",
    "```python\n",
    "super().메소드명()\n",
    "```\n",
    "\n",
    "-   상위 클래스의 Instance 메소드를 호출할 때 – super().메소드()\n",
    "    -   특히 method overriding을 한 하위 클래스에서 상위 클래스의 원본 메소드를 호출 할 경우 반드시 `super().메소드() `형식으로 호출해야 한다.\n",
    "-   메소드에서\n",
    "    -   self.xxxx : 같은 클래스에 정의된 메소드나 attribute(instance 변수) 호출\n",
    "    -   super().xxxx : 부모클래스에 정의된 메소드나 attribute(부모객체의 attribute) 호출\n"
   ]
  },
  {
   "cell_type": "code",
   "execution_count": null,
   "metadata": {
    "slideshow": {
     "slide_type": "fragment"
    }
   },
   "outputs": [],
   "source": [
    "# super() 함수 활용 예시\n",
    "class Employee:\n",
    "    def __init__(self, name, employee_id, salary):\n",
    "        self.name = name\n",
    "        self.employee_id = employee_id\n",
    "        self.salary = salary\n",
    "    \n",
    "    def get_info(self):\n",
    "        return f\"직원명: {self.name}, ID: {self.employee_id}, 급여: {self.salary}만원\"\n",
    "    \n",
    "    def work(self):\n",
    "        return f\"{self.name}이(가) 일하고 있습니다.\"\n",
    "\n",
    "class Manager(Employee):\n",
    "    def __init__(self, name, employee_id, salary, team_size):\n",
    "        super().__init__(name, employee_id, salary)  # 부모 생성자 호출\n",
    "        self.team_size = team_size\n",
    "    \n",
    "    def get_info(self):  # 메소드 오버라이딩에서 super() 사용\n",
    "        parent_info = super().get_info()  # 부모의 get_info() 호출\n",
    "        return f\"{parent_info}, 팀원 수: {self.team_size}명\"\n",
    "    \n",
    "    def work(self):  # 메소드 오버라이딩에서 super() 사용\n",
    "        parent_work = super().work()  # 부모의 work() 호출\n",
    "        return f\"{parent_work} 그리고 팀을 관리하고 있습니다.\"\n",
    "    \n",
    "    def manage_team(self):\n",
    "        return f\"{self.name}이(가) {self.team_size}명의 팀을 관리합니다.\"\n",
    "\n",
    "class Developer(Employee):\n",
    "    def __init__(self, name, employee_id, salary, programming_language):\n",
    "        super().__init__(name, employee_id, salary)\n",
    "        self.programming_language = programming_language\n",
    "    \n",
    "    def get_info(self):\n",
    "        parent_info = super().get_info()\n",
    "        return f\"{parent_info}, 주 언어: {self.programming_language}\"\n",
    "    \n",
    "    def work(self):\n",
    "        parent_work = super().work()\n",
    "        return f\"{parent_work} {self.programming_language}로 코딩하고 있습니다.\"\n",
    "    \n",
    "    def code(self):\n",
    "        return f\"{self.name}이(가) {self.programming_language}로 프로그래밍합니다.\"\n",
    "\n",
    "# 객체 생성 및 테스트\n",
    "manager = Manager(\"김팀장\", \"M001\", 500, 5)\n",
    "developer = Developer(\"이개발\", \"D001\", 400, \"Python\")\n",
    "\n",
    "print(\"=== 매니저 ===\")\n",
    "print(manager.get_info())    # super()를 사용한 오버라이딩\n",
    "print(manager.work())        # super()를 사용한 오버라이딩\n",
    "print(manager.manage_team())\n",
    "\n",
    "print(\"\\n=== 개발자 ===\")\n",
    "print(developer.get_info())  # super()를 사용한 오버라이딩\n",
    "print(developer.work())      # super()를 사용한 오버라이딩\n",
    "print(developer.code())"
   ]
  },
  {
   "cell_type": "markdown",
   "metadata": {
    "slideshow": {
     "slide_type": "slide"
    }
   },
   "source": [
    "## 객체 관련 유용한 내장 함수, 특수 변수\n",
    "\n",
    "-   **`isinstance(객체, 클래스이름-datatype)`** : bool\n",
    "    -   객체가 두번째 매개변수로 지정한 클래스의 타입이면 True, 아니면 False 반환\n",
    "    -   여러개의 타입여부를 확인할 경우 class이름(type)들을 **튜플(tuple)로** 묶어 준다.\n",
    "    -   상위 클래스는 하위 클래스객체의 타입이 되므로 객체와 그 객체의 상위 클래스 비교시 True가 나온다.\n",
    "-   **`객체.__dict__`**\n",
    "    -   객체가 가지고 있는 Attribute 변수들과 대입된 값을 dictionary에 넣어 반환\n"
   ]
  },
  {
   "cell_type": "markdown",
   "metadata": {
    "slideshow": {
     "slide_type": "slide"
    }
   },
   "source": [
    "## 특수 메소드(Special method)\n",
    "\n",
    "### 특수 메소드란\n",
    "\n",
    "-   파이썬 실행환경(Python runtime)이 객체와 관련해서 특정 상황 발생하면 호출 하도록 정의한 메소드들. 그 특정상황에서 처리해야 할 일이 있으면 구현을 재정의 한다.\n",
    "    -   객체에 특정 기능들을 추가할 때 사용한다.\n",
    "    -   정의한 메소드와 그것을 호출하는 함수가 다르다.\n",
    "        -   ex) `__init__()` => **객체 생성할 때** 호출 된다.\n",
    "-   메소드 명이 더블 언더스코어로 시작하고 끝난다.\n",
    "    -   ex) `__init__(), __str__()`\n",
    "-   매직 메소드(Magic Method), 던더(DUNDER) 메소드라고도 한다.\n",
    "-   특수메소드 종류\n",
    "    -   https://docs.python.org/ko/3/reference/datamodel.html#special-method-names\n"
   ]
  },
  {
   "cell_type": "markdown",
   "metadata": {
    "slideshow": {
     "slide_type": "subslide"
    }
   },
   "source": [
    "### 주요 특수메소드\n",
    "\n",
    "-   **`__init__(self [, …])`**\n",
    "    -   Initializer\n",
    "    -   객체 생성시 호출 된다.\n",
    "    -   객체 생성시 Attribute의 값들을 초기화하는 것을 구현한다.\n",
    "    -   self 변수로 받은 instance에 Attribute를 설정한다.\n",
    "-   **`__call__(self [, …])`**\n",
    "-   객체를 함수처럼 호출 하면 실행되는 메소드\n",
    "    -   Argument를 받을 Parameter 변수는 self 변수 다음에 필요한대로 선언한다.\n",
    "    -   처리결과를 반환하도록 구현할 경우 `return value` 구문을 넣는다. (필수는 아니다.)\n"
   ]
  },
  {
   "cell_type": "markdown",
   "metadata": {
    "slideshow": {
     "slide_type": "subslide"
    }
   },
   "source": [
    "-   **`__str__(self)`**\n",
    "    -   Instance(객체)의 Attribute들을 묶어서 문자열로 반환한다.\n",
    "    -   내장 함수 **str(객체)** 호출할 때 이 메소드가 호출 된다.\n",
    "        -   str() 호출할 때 객체에 `__str__()`의 정의 안되 있으면 `__repr__()` 을 호출한다. `__repr__()`도 없으면 상위클래스에 정의된 `__str__()`을 호출한다.\n",
    "        -   print() 함수는 값을 문자열로 변환해서 출력한다. 이때 그 값을 str() 에 넣어 문자열로 변환한다.\n"
   ]
  },
  {
   "cell_type": "code",
   "execution_count": null,
   "metadata": {
    "slideshow": {
     "slide_type": "fragment"
    }
   },
   "outputs": [],
   "source": [
    "# 특수 메소드 (__str__, __call__) 예시\n",
    "class Book:\n",
    "    def __init__(self, title, author, pages, price):\n",
    "        self.title = title\n",
    "        self.author = author\n",
    "        self.pages = pages\n",
    "        self.price = price\n",
    "        self.is_borrowed = False\n",
    "    \n",
    "    def __str__(self):  # 문자열 표현 메소드\n",
    "        status = \"대출중\" if self.is_borrowed else \"대출가능\"\n",
    "        return f\"'{self.title}' - {self.author} 저 ({self.pages}페이지, {self.price}원) [{status}]\"\n",
    "    \n",
    "    def __call__(self):  # 객체를 함수처럼 호출할 때\n",
    "        if not self.is_borrowed:\n",
    "            self.is_borrowed = True\n",
    "            return f\"'{self.title}' 책을 대출했습니다.\"\n",
    "        else:\n",
    "            self.is_borrowed = False\n",
    "            return f\"'{self.title}' 책을 반납했습니다.\"\n",
    "    \n",
    "    def borrow(self):\n",
    "        if not self.is_borrowed:\n",
    "            self.is_borrowed = True\n",
    "            return f\"'{self.title}' 대출 완료\"\n",
    "        return \"이미 대출된 책입니다.\"\n",
    "    \n",
    "    def return_book(self):\n",
    "        if self.is_borrowed:\n",
    "            self.is_borrowed = False\n",
    "            return f\"'{self.title}' 반납 완료\"\n",
    "        return \"이미 반납된 책입니다.\"\n",
    "\n",
    "# 책 객체 생성\n",
    "book1 = Book(\"파이썬 프로그래밍\", \"김파이\", 350, 25000)\n",
    "book2 = Book(\"데이터 분석\", \"이데이터\", 400, 30000)\n",
    "\n",
    "# __str__ 메소드 테스트 (print 할 때 자동 호출)\n",
    "print(\"=== 도서 목록 ===\")\n",
    "print(book1)  # __str__ 메소드가 호출됨\n",
    "print(book2)\n",
    "\n",
    "# __call__ 메소드 테스트 (객체를 함수처럼 호출)\n",
    "print(\"\\n=== 대출/반납 테스트 ===\")\n",
    "print(book1())  # __call__ 메소드로 대출\n",
    "print(book1)    # 상태 확인\n",
    "print(book1())  # __call__ 메소드로 반납\n",
    "print(book1)    # 상태 확인\n",
    "\n",
    "# str() 함수와 print() 함수에서 __str__ 호출 확인\n",
    "print(f\"\\nstr() 함수 결과: {str(book2)}\")\n",
    "print(f\"직접 출력: \", end=\"\")\n",
    "print(book2)"
   ]
  },
  {
   "cell_type": "markdown",
   "metadata": {
    "slideshow": {
     "slide_type": "subslide"
    }
   },
   "source": [
    "#### 연산자 재정의(Operator overriding) 관련 특수 메소드\n",
    "\n",
    "-   연산자의 피연산자로 객체를 사용하면 호출되는 메소드들\n",
    "-   다항연산자일 경우 가장 왼쪽의 객체에 정의된 메소드가 호출된다.\n",
    "    -   `a + b` 일경우 a의 `__add__()` 가 호출된다.\n",
    "-   **비교 연산자**\n",
    "    -   **`__eq__(self, other)`** : self == other\n",
    "        -   == 로 객체의 내용을 비교할 때 정의 한다.\n",
    "    -   **`__lt__(self, other)`** : self < other,\n",
    "    -   **`__gt__(self, other)`**: self > other\n",
    "        -   min()이나 max()에서 인수로 사용할 경우 정의해야 한다.\n",
    "    -   **`__le__(self, other)`**: self <= other\n",
    "    -   **`__ge__(self, other)`**: self >= other\n",
    "    -   **`__ne__(self, other)`**: self != other\n"
   ]
  },
  {
   "cell_type": "markdown",
   "metadata": {
    "slideshow": {
     "slide_type": "fragment"
    }
   },
   "source": [
    "-   **산술 연산자**\n",
    "    -   **`__add__(self, other)`**: self + other\n",
    "    -   **`__sub__(self, other)`**: self - other\n",
    "    -   **`__mul__(self, other)`**: self \\* other\n",
    "    -   **`__truediv__(self, other)`**: self / other\n",
    "    -   **`__floordiv__(self, other)`**: self // other\n",
    "    -   **`__mod__(self, other)`**: self % other\n"
   ]
  },
  {
   "cell_type": "code",
   "execution_count": null,
   "metadata": {
    "slideshow": {
     "slide_type": "fragment"
    }
   },
   "outputs": [],
   "source": [
    "# 연산자 오버로딩 예시\n",
    "class Point:\n",
    "    def __init__(self, x, y):\n",
    "        self.x = x\n",
    "        self.y = y\n",
    "    \n",
    "    def __str__(self):\n",
    "        return f\"Point({self.x}, {self.y})\"\n",
    "    \n",
    "    def __eq__(self, other):  # == 연산자\n",
    "        return self.x == other.x and self.y == other.y\n",
    "    \n",
    "    def __lt__(self, other):  # < 연산자 (원점으로부터의 거리 비교)\n",
    "        self_distance = (self.x ** 2 + self.y ** 2) ** 0.5\n",
    "        other_distance = (other.x ** 2 + other.y ** 2) ** 0.5\n",
    "        return self_distance < other_distance\n",
    "    \n",
    "    def __add__(self, other):  # + 연산자\n",
    "        return Point(self.x + other.x, self.y + other.y)\n",
    "    \n",
    "    def __sub__(self, other):  # - 연산자\n",
    "        return Point(self.x - other.x, self.y - other.y)\n",
    "    \n",
    "    def __mul__(self, scalar):  # * 연산자 (스칼라 곱)\n",
    "        return Point(self.x * scalar, self.y * scalar)\n",
    "    \n",
    "    def distance_from_origin(self):\n",
    "        return (self.x ** 2 + self.y ** 2) ** 0.5\n",
    "\n",
    "class Vector:\n",
    "    def __init__(self, x, y):\n",
    "        self.x = x\n",
    "        self.y = y\n",
    "    \n",
    "    def __str__(self):\n",
    "        return f\"Vector({self.x}, {self.y})\"\n",
    "    \n",
    "    def __add__(self, other):  # 벡터 덧셈\n",
    "        return Vector(self.x + other.x, self.y + other.y)\n",
    "    \n",
    "    def __mul__(self, other):  # 내적(dot product)\n",
    "        return self.x * other.x + self.y * other.y\n",
    "    \n",
    "    def __abs__(self):  # abs() 함수 호출시 벡터의 크기 반환\n",
    "        return (self.x ** 2 + self.y ** 2) ** 0.5\n",
    "\n",
    "# Point 클래스 테스트\n",
    "print(\"=== Point 클래스 테스트 ===\")\n",
    "p1 = Point(3, 4)\n",
    "p2 = Point(1, 2)\n",
    "p3 = Point(3, 4)\n",
    "\n",
    "print(f\"p1: {p1}\")\n",
    "print(f\"p2: {p2}\")\n",
    "print(f\"p3: {p3}\")\n",
    "\n",
    "print(f\"p1 == p2: {p1 == p2}\")  # __eq__ 메소드\n",
    "print(f\"p1 == p3: {p1 == p3}\")  # __eq__ 메소드\n",
    "print(f\"p1 < p2: {p1 < p2}\")    # __lt__ 메소드\n",
    "\n",
    "print(f\"p1 + p2: {p1 + p2}\")    # __add__ 메소드\n",
    "print(f\"p1 - p2: {p1 - p2}\")    # __sub__ 메소드\n",
    "print(f\"p1 * 2: {p1 * 2}\")      # __mul__ 메소드\n",
    "\n",
    "# Vector 클래스 테스트\n",
    "print(\"\\n=== Vector 클래스 테스트 ===\")\n",
    "v1 = Vector(2, 3)\n",
    "v2 = Vector(4, 1)\n",
    "\n",
    "print(f\"v1: {v1}\")\n",
    "print(f\"v2: {v2}\")\n",
    "print(f\"v1 + v2: {v1 + v2}\")    # 벡터 덧셈\n",
    "print(f\"v1 * v2: {v1 * v2}\")    # 내적\n",
    "print(f\"abs(v1): {abs(v1)}\")    # __abs__ 메소드\n",
    "\n",
    "# min, max 함수에서 __lt__ 사용\n",
    "points = [Point(1, 1), Point(5, 5), Point(2, 3), Point(0, 4)]\n",
    "print(f\"\\n가장 원점에 가까운 점: {min(points)}\")\n",
    "print(f\"가장 원점에서 먼 점: {max(points)}\")"
   ]
  },
  {
   "cell_type": "markdown",
   "metadata": {
    "slideshow": {
     "slide_type": "slide"
    }
   },
   "source": [
    "# class변수, class 메소드\n",
    "\n",
    "-   **class변수**\n",
    "    -   (Intance가 아닌) 클래스 자체의 데이터\n",
    "    -   Attribute가 객체별로 생성된다면, class변수는 클래스당 하나가 생성된다.\n",
    "    -   구현\n",
    "        -   class 블럭에 변수 선언.\n",
    "-   **class 메소드**\n",
    "    -   클래스 변수를 처리하는 메소드\n",
    "    -   구현\n",
    "        -   @classmethod 데코레이터를 붙인다.\n",
    "        -   첫번째 매개변수로 클래스를 받는 변수를 선언한다. 이 변수를 이용해 클래스 변수나 다른 클래스 메소드를 호출 한다.\n"
   ]
  },
  {
   "cell_type": "markdown",
   "metadata": {
    "slideshow": {
     "slide_type": "fragment"
    }
   },
   "source": [
    "## class 메소드/변수 호출\n",
    "\n",
    "-   클래스이름.변수\n",
    "-   클래스이름.메소드()\n"
   ]
  },
  {
   "cell_type": "code",
   "execution_count": null,
   "metadata": {
    "slideshow": {
     "slide_type": "fragment"
    }
   },
   "outputs": [],
   "source": [
    "# 클래스 변수와 클래스 메소드 예시\n",
    "class Student:\n",
    "    # 클래스 변수들\n",
    "    school_name = \"한국대학교\"  # 모든 학생이 공유하는 학교명\n",
    "    total_students = 0         # 총 학생 수\n",
    "    grade_scale = {\"A\": 90, \"B\": 80, \"C\": 70, \"D\": 60, \"F\": 0}  # 성적 기준\n",
    "    \n",
    "    def __init__(self, name, student_id, major):\n",
    "        # 인스턴스 변수들\n",
    "        self.name = name\n",
    "        self.student_id = student_id\n",
    "        self.major = major\n",
    "        self.grades = {}\n",
    "        \n",
    "        # 클래스 변수 수정 (새 학생이 생성될 때마다 총 학생 수 증가)\n",
    "        Student.total_students += 1\n",
    "    \n",
    "    @classmethod\n",
    "    def get_total_students(cls):  # 클래스 메소드\n",
    "        return f\"총 학생 수: {cls.total_students}명\"\n",
    "    \n",
    "    @classmethod\n",
    "    def set_school_name(cls, new_name):  # 클래스 메소드\n",
    "        cls.school_name = new_name\n",
    "        return f\"학교명이 '{new_name}'으로 변경되었습니다.\"\n",
    "    \n",
    "    @classmethod\n",
    "    def get_grade_info(cls):  # 클래스 메소드\n",
    "        return f\"성적 기준: {cls.grade_scale}\"\n",
    "    \n",
    "    @classmethod\n",
    "    def create_transfer_student(cls, name, old_school):  # 대안 생성자\n",
    "        student_id = f\"T{cls.total_students + 1:03d}\"\n",
    "        student = cls(name, student_id, \"미정\")\n",
    "        student.old_school = old_school\n",
    "        return student\n",
    "    \n",
    "    def add_grade(self, subject, score):  # 인스턴스 메소드\n",
    "        self.grades[subject] = score\n",
    "        return f\"{subject} 과목에 {score}점이 등록되었습니다.\"\n",
    "    \n",
    "    def get_info(self):  # 인스턴스 메소드\n",
    "        return f\"학교: {Student.school_name}, 이름: {self.name}, 학번: {self.student_id}, 전공: {self.major}\"\n",
    "    \n",
    "    def __str__(self):\n",
    "        return f\"{self.name}({self.student_id}) - {self.major}과\"\n",
    "\n",
    "# 클래스 변수와 클래스 메소드 사용\n",
    "print(\"=== 클래스 변수/메소드 테스트 ===\")\n",
    "print(f\"학교명: {Student.school_name}\")\n",
    "print(Student.get_total_students())\n",
    "print(Student.get_grade_info())\n",
    "\n",
    "# 학생 객체들 생성\n",
    "student1 = Student(\"김철수\", \"2024001\", \"컴퓨터공학\")\n",
    "student2 = Student(\"이영희\", \"2024002\", \"수학과\")\n",
    "student3 = Student(\"박민수\", \"2024003\", \"물리학과\")\n",
    "\n",
    "print(f\"\\n학생 생성 후: {Student.get_total_students()}\")\n",
    "\n",
    "# 각 학생의 정보\n",
    "print(\"\\n=== 학생 정보 ===\")\n",
    "for student in [student1, student2, student3]:\n",
    "    print(student.get_info())\n",
    "\n",
    "# 클래스 메소드로 학교명 변경\n",
    "print(f\"\\n{Student.set_school_name('서울대학교')}\")\n",
    "print(f\"변경 후 학교명: {Student.school_name}\")\n",
    "\n",
    "# 모든 학생 객체에서 변경된 학교명 확인\n",
    "print(\"\\n=== 학교명 변경 후 학생 정보 ===\")\n",
    "for student in [student1, student2, student3]:\n",
    "    print(student.get_info())\n",
    "\n",
    "# 대안 생성자 (클래스 메소드) 사용\n",
    "transfer_student = Student.create_transfer_student(\"최전학\", \"부산대학교\")\n",
    "print(f\"\\n편입생: {transfer_student.get_info()}\")\n",
    "print(f\"이전 학교: {transfer_student.old_school}\")\n",
    "print(f\"최종 총 학생 수: {Student.get_total_students()}\")\n",
    "\n",
    "# 클래스 변수 vs 인스턴스 변수 확인\n",
    "print(f\"\\n클래스 변수 total_students: {Student.total_students}\")\n",
    "print(f\"student1의 total_students: {student1.total_students}\")  # 클래스 변수에 접근\n",
    "student1.total_students = 999  # 인스턴스 변수로 덮어쓰기\n",
    "print(f\"student1에 인스턴스 변수 생성 후: {student1.total_students}\")\n",
    "print(f\"클래스 변수는 여전히: {Student.total_students}\")\n",
    "print(f\"student2는 여전히 클래스 변수: {student2.total_students}\")"
   ]
  },
  {
   "cell_type": "markdown",
   "metadata": {},
   "source": [
    "## ⚠️ self 매개변수를 없애면 어떻게 될까?\n",
    "\n",
    "**결론부터 말하면: 에러가 발생합니다!**\n",
    "\n",
    "self를 없애면 발생하는 문제들을 실제로 확인해보겠습니다."
   ]
  },
  {
   "cell_type": "code",
   "execution_count": null,
   "metadata": {},
   "outputs": [
    {
     "name": "stdout",
     "output_type": "stream",
     "text": [
      "=== self 없는 클래스 테스트 ===\n",
      "BadStudent('김학생', 20) 실행해보기...\n"
     ]
    },
    {
     "ename": "AttributeError",
     "evalue": "'BadStudent' object has no attribute 'intruduce'",
     "output_type": "error",
     "traceback": [
      "\u001b[31m---------------------------------------------------------------------------\u001b[39m",
      "\u001b[31mAttributeError\u001b[39m                            Traceback (most recent call last)",
      "\u001b[36mCell\u001b[39m\u001b[36m \u001b[39m\u001b[32mIn[22]\u001b[39m\u001b[32m, line 16\u001b[39m\n\u001b[32m     13\u001b[39m \u001b[38;5;28mprint\u001b[39m(\u001b[33m\"\u001b[39m\u001b[33mBadStudent(\u001b[39m\u001b[33m'\u001b[39m\u001b[33m김학생\u001b[39m\u001b[33m'\u001b[39m\u001b[33m, 20) 실행해보기...\u001b[39m\u001b[33m\"\u001b[39m)\n\u001b[32m     15\u001b[39m A = BadStudent(\u001b[33m\"\u001b[39m\u001b[33m김학생\u001b[39m\u001b[33m\"\u001b[39m)\n\u001b[32m---> \u001b[39m\u001b[32m16\u001b[39m \u001b[43mA\u001b[49m\u001b[43m.\u001b[49m\u001b[43mintruduce\u001b[49m(\u001b[33m\"\u001b[39m\u001b[33m안녕\u001b[39m\u001b[33m\"\u001b[39m)  \u001b[38;5;66;03m# 에러 발생!\u001b[39;00m\n",
      "\u001b[31mAttributeError\u001b[39m: 'BadStudent' object has no attribute 'intruduce'"
     ]
    }
   ],
   "source": [
    "# self를 없앤 잘못된 클래스 예시\n",
    "class BadStudent:\n",
    "    def __init__(name, age):  # ❌ self가 없음!\n",
    "        # 이 코드는 에러가 발생할 것임\n",
    "        name = name  # 어디에 저장할지 모름\n",
    "        age = age    # 어디에 저장할지 모름\n",
    "    \n",
    "    def introduce(name, age):  # ❌ self가 없음!\n",
    "        # 어떤 학생의 정보를 출력할지 모름\n",
    "        print(f\"안녕하세요, 저는 {name}이고 {age}살입니다.\")  # name, age를 찾을 수 없음\n",
    "\n",
    "print(\"=== self 없는 클래스 테스트 ===\")\n",
    "print(\"BadStudent('김학생', 20) 실행해보기...\")\n",
    "\n",
    "A = BadStudent(\"김학생\")\n"
   ]
  }
 ],
 "metadata": {
  "kernelspec": {
   "display_name": ".venv",
   "language": "python",
   "name": "python3"
  },
  "language_info": {
   "codemirror_mode": {
    "name": "ipython",
    "version": 3
   },
   "file_extension": ".py",
   "mimetype": "text/x-python",
   "name": "python",
   "nbconvert_exporter": "python",
   "pygments_lexer": "ipython3",
   "version": "3.13.2"
  },
  "toc": {
   "base_numbering": 1,
   "nav_menu": {},
   "number_sections": true,
   "sideBar": true,
   "skip_h1_title": false,
   "title_cell": "Table of Contents",
   "title_sidebar": "Contents",
   "toc_cell": false,
   "toc_position": {},
   "toc_section_display": true,
   "toc_window_display": false
  },
  "varInspector": {
   "cols": {
    "lenName": 16,
    "lenType": 16,
    "lenVar": 40
   },
   "kernels_config": {
    "python": {
     "delete_cmd_postfix": "",
     "delete_cmd_prefix": "del ",
     "library": "var_list.py",
     "varRefreshCmd": "print(var_dic_list())"
    },
    "r": {
     "delete_cmd_postfix": ") ",
     "delete_cmd_prefix": "rm(",
     "library": "var_list.r",
     "varRefreshCmd": "cat(var_dic_list()) "
    }
   },
   "types_to_exclude": [
    "module",
    "function",
    "builtin_function_or_method",
    "instance",
    "_Feature"
   ],
   "window_display": false
  }
 },
 "nbformat": 4,
 "nbformat_minor": 4
}
